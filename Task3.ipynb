{
 "cells": [
  {
   "cell_type": "markdown",
   "metadata": {},
   "source": [
    "# Task 3\n",
    "Please write a simple compiler – program, which translates one quantum circuit into another, using a restricted set of gates.\n",
    "\n",
    "You need to consider just the basic gates for the input circuit, such as (I, H, X, Y, Z, RX, RY, RZ, CNOT, CZ).\n",
    "\n",
    "The output circuit should consist only from the following gates: RX, RZ, CZ. In other words, each gate in the original circuit must be replaced by an equivalent combination of gates coming from the restricted set (RX, RZ, CZ) only.\n",
    "\n",
    "For example, a Hadamard gate after compilation looks like this:\n",
    "\n",
    "RZ(pi/2)\n",
    "RX(pi/2)\n",
    "RZ(pi/2)\n",
    "\n",
    "Analyze what’s the overhead of the compiled program compared to the original one and propose how to improve it. What we mean by overhead is the following: by replacing all the initial gates with the restricted set of gates given in the problem, you will see that the resulting circuit is much more involved than the original one. This is what we called the overhead, and you may think about how to treat this problem, i.e. you could try to simplify as much as possible the resulting circuit.\n"
   ]
  },
  {
   "cell_type": "markdown",
   "metadata": {},
   "source": [
    "## Solution\n",
    "\n",
    "I will tackle the problem in a few stages. Firstly, I will try to prove that each of the input gates can be substituted with a circuit consisting of gates from the restricted set. To this end for each gate I should provide an equivalent circuit. This will allow me to determine lower and upper bounds of the overhead of the proposed translation. Then I will try to come up with some ideas or propositions on how to reduce the circuit.\n",
    "\n",
    "Because of POC character of the task I will start with preparing basic mappings with simple gate classes. Below brief demonstration of sample class. The rest can be found in `gates.py`."
   ]
  },
  {
   "cell_type": "code",
   "execution_count": 1,
   "metadata": {},
   "outputs": [
    {
     "name": "stdout",
     "output_type": "stream",
     "text": [
      "Introduce the gate:\n",
      "RX(3.141592653589793, 0)\n",
      "Matrix representation:\n",
      "[[6.123234e-17+0.j 0.000000e+00-1.j]\n",
      " [0.000000e+00-1.j 6.123234e-17+0.j]]\n"
     ]
    }
   ],
   "source": [
    "# Most important dependency, as some algebraic computations will be inevitable\n",
    "import numpy as np\n",
    "\n",
    "from gates import RXGate\n",
    "\n",
    "# Gates accepts parameters in the following order angle, control, target.\n",
    "# If param doesn't apply to the given gate it is ommited, e.g. RXGate accepts params theta and target only.\n",
    "\n",
    "# Each gate can be dumped to a string and provide coresponding matrix\n",
    "rx_gate = RXGate(np.pi, 0)\n",
    "mat = rx_gate.to_matrix()\n",
    "\n",
    "print(\"Introduce the gate:\")\n",
    "print(rx_gate)\n",
    "print(\"Matrix representation:\")\n",
    "print(mat)\n"
   ]
  },
  {
   "cell_type": "markdown",
   "metadata": {},
   "source": [
    "We need to achieve `I, H, X, Y, Z, RX, RY, RZ, CNOT, CZ` with `RX, RZ, CZ`, in other words, we need to prove that restricted set is universal for computation with initial set."
   ]
  },
  {
   "cell_type": "code",
   "execution_count": 2,
   "metadata": {},
   "outputs": [],
   "source": [
    "# We will collect all transpilation mappings in a dict\n",
    "mappings = {}"
   ]
  },
  {
   "cell_type": "markdown",
   "metadata": {},
   "source": [
    "### Batch #1 `I, RX, RZ, X, Z, CZ` (the trivial ones)"
   ]
  },
  {
   "cell_type": "code",
   "execution_count": 3,
   "metadata": {},
   "outputs": [],
   "source": [
    "from gates import IGate, RXGate, RZGate, XGate, ZGate, CZGate"
   ]
  },
  {
   "cell_type": "markdown",
   "metadata": {},
   "source": [
    "#### 1. I (Identity gate)\n",
    "Keeping in mind simplicity it's best to omit it."
   ]
  },
  {
   "cell_type": "code",
   "execution_count": 4,
   "metadata": {},
   "outputs": [],
   "source": [
    "def transpile_I(_gate):\n",
    "    return []\n",
    "\n",
    "mappings[IGate] = transpile_I"
   ]
  },
  {
   "cell_type": "markdown",
   "metadata": {},
   "source": [
    "#### 2. RX, RZ, CZ\n",
    "These three gates doesn't need to be transpiled. We can map them with an identity manner."
   ]
  },
  {
   "cell_type": "code",
   "execution_count": 5,
   "metadata": {},
   "outputs": [],
   "source": [
    "def transpile_identity(gate):\n",
    "    return [gate]\n",
    "\n",
    "mappings[RXGate] = transpile_identity\n",
    "mappings[RZGate] = transpile_identity\n",
    "mappings[CZGate] = transpile_identity"
   ]
  },
  {
   "cell_type": "code",
   "execution_count": 6,
   "metadata": {},
   "outputs": [
    {
     "name": "stdout",
     "output_type": "stream",
     "text": [
      "RX(1.5707963267948966, 0)\n"
     ]
    }
   ],
   "source": [
    "# Quick check\n",
    "gate = RXGate(np.pi/2, 0)\n",
    "[mapped] = mappings[gate.__class__](gate)\n",
    "print(mapped)"
   ]
  },
  {
   "cell_type": "markdown",
   "metadata": {},
   "source": [
    "#### 3. X, Z\n",
    "These are specific cases of rotations RX and RZ. For each it's enough to use one gate. \n",
    "\n",
    "$ X = RX(\\pi), \\\\ Z = RZ(\\pi)$\n"
   ]
  },
  {
   "cell_type": "code",
   "execution_count": 7,
   "metadata": {},
   "outputs": [],
   "source": [
    "def rotate_by_pi(rotation_gate):\n",
    "    def mapping(gate):\n",
    "        return [rotation_gate(np.pi, gate.target)]\n",
    "        \n",
    "    return mapping\n",
    "\n",
    "mappings[XGate] = rotate_by_pi(RXGate)\n",
    "mappings[ZGate] = rotate_by_pi(RZGate)"
   ]
  },
  {
   "cell_type": "code",
   "execution_count": 8,
   "metadata": {},
   "outputs": [
    {
     "name": "stdout",
     "output_type": "stream",
     "text": [
      "RZ(3.141592653589793, 0)\n"
     ]
    }
   ],
   "source": [
    "# Quick check\n",
    "gate = ZGate(0)\n",
    "[mapped] = mappings[gate.__class__](gate)\n",
    "print(mapped)"
   ]
  },
  {
   "cell_type": "markdown",
   "metadata": {},
   "source": [
    "### Batch #2 `RY, Y,  H, CNOT`"
   ]
  },
  {
   "cell_type": "code",
   "execution_count": 9,
   "metadata": {},
   "outputs": [],
   "source": [
    "from gates import RYGate, YGate, HGate, CNOTGate"
   ]
  },
  {
   "cell_type": "markdown",
   "metadata": {},
   "source": [
    "#### 4. RY\n",
    "This is first gate which requires some effort. Fortunatelly, referring to classical rotation matrices theory (in particular Euler's rotation theorem), any 3d rotation may be decomposed into 3 rotations from some bases, including `ZXZ`. According to this, we may expect to be able to decompose `RY` the following way. \\\n",
    "$ RZ(\\alpha) RX(\\beta) RZ(\\gamma) = RY(\\delta)$ \\\n",
    "In matrix form: \\\n",
    "$\n",
    "\\begin{bmatrix} e^{-i\\frac{\\alpha}{2}} & 0 \\\\ 0 & e^{i\\frac{\\alpha}{2}} \\end{bmatrix}\n",
    "\\begin{bmatrix} cos(\\frac{\\beta}{2}) & -isin(\\frac{\\beta}{2}) \\\\ -isin(\\frac{\\beta}{2}) & cos(\\frac{\\beta}{2}) \\end{bmatrix}\n",
    "\\begin{bmatrix} e^{-i\\frac{\\gamma}{2}} & 0 \\\\ 0 & e^{i\\frac{\\gamma}{2}} \\end{bmatrix}\n",
    "=\n",
    "\\begin{bmatrix} cos(\\frac{\\delta}{2}) & -sin(\\frac{\\delta}{2}) \\\\ sin(\\frac{\\delta}{2}) & cos(\\frac{\\delta}{2}) \\end{bmatrix}\n",
    "$ \\\n",
    "Because `RX` and `RY` differs only by sine coefficients, it seems reasonable to check wheter is it possible to achive them using Z rotations and keep the same angle in `RX` and `RY`. \\\n",
    "Values $\\alpha = \\frac{5}{2}\\pi$ and $\\gamma = \\frac{3}{2}\\pi$ satisfy this requirement. (I've decided to extract computational part to `appendix.pdf` to keep this notebook readable, feel free to check it in the same repository)\\\n",
    "$RY(\\theta) = RZ(\\frac{5}{2}\\pi)RX(\\theta)RZ(\\frac{3}{2}\\pi)$"
   ]
  },
  {
   "cell_type": "code",
   "execution_count": 10,
   "metadata": {},
   "outputs": [],
   "source": [
    "def transpile_RY(gate):\n",
    "    return [\n",
    "        RZGate(5/2*np.pi, gate.target),\n",
    "        RXGate(gate.theta, gate.target),\n",
    "        RZGate(3/2*np.pi, gate.target)\n",
    "    ]\n",
    "\n",
    "mappings[RYGate] = transpile_RY"
   ]
  },
  {
   "cell_type": "markdown",
   "metadata": {},
   "source": [
    "#### 5. Y\n",
    "Given above, we need to simply deliberate the fact that $Y = RY(\\pi)$, so:\\\n",
    "$Y = RY(\\pi) = RZ(\\frac{5}{2}\\pi)RX(\\pi)RZ(\\frac{3}{2}\\pi)$"
   ]
  },
  {
   "cell_type": "code",
   "execution_count": 11,
   "metadata": {},
   "outputs": [],
   "source": [
    "def transpile_Y(gate):\n",
    "    return [\n",
    "        RZGate(5/2*np.pi, gate.target),\n",
    "        RXGate(np.pi, gate.target),\n",
    "        RZGate(3/2*np.pi, gate.target)\n",
    "    ]\n",
    "\n",
    "mappings[YGate] = transpile_Y"
   ]
  },
  {
   "cell_type": "markdown",
   "metadata": {},
   "source": [
    "#### 6. H\n",
    "One of well-known `H` decompositions is $H = RY(\\frac{1}{2}\\pi)Z$. Once again we can use `RY` decomposition and obtain:\\\n",
    "$H = RZ(\\frac{5}{2}\\pi)RX(\\frac{1}{2}\\pi)RZ(\\frac{3}{2}\\pi)Z = RZ(\\frac{5}{2}\\pi)RX(\\frac{1}{2}\\pi)RZ(\\frac{5}{2}\\pi)$"
   ]
  },
  {
   "cell_type": "code",
   "execution_count": 12,
   "metadata": {},
   "outputs": [],
   "source": [
    "def transpile_H(gate):\n",
    "    return [\n",
    "        RZGate(5/2*np.pi, gate.target),\n",
    "        RXGate(np.pi/2, gate.target),\n",
    "        RZGate(5/2*np.pi, gate.target)\n",
    "    ]\n",
    "\n",
    "mappings[HGate] = transpile_H"
   ]
  },
  {
   "cell_type": "markdown",
   "metadata": {},
   "source": [
    "#### 7. CNOT\n",
    "Looking at available gates it's obvious that we have to use `CZ` gate. It's benefeitial to verbalize `Z`'s behaviour - it changes phase of $|1 \\rangle$. Then it's easy to observe, that we can simply change second qubit's (if the first one is control) basis with `H` gates.\n",
    "$\n",
    "H Z H = \\begin{bmatrix} 1 & 1 \\\\ 1 & -1 \\end{bmatrix}\n",
    "\\begin{bmatrix} 1 & 0 \\\\ 0 & -1 \\end{bmatrix}\n",
    "\\begin{bmatrix} 1 & 1 \\\\ 1 & -1 \\end{bmatrix}\n",
    "=\n",
    "\\begin{bmatrix} 0 & 1 \\\\ 1 & 0 \\end{bmatrix}\n",
    "= X\n",
    "$\\\n",
    "Then:\\\n",
    "$(I \\otimes H)CZ(I \\otimes H) = CNOT$"
   ]
  },
  {
   "cell_type": "code",
   "execution_count": 13,
   "metadata": {},
   "outputs": [],
   "source": [
    "def transpile_CNOT(gate):\n",
    "    left_h, right_h  = HGate(gate.target), HGate(gate.target)\n",
    "    return transpile_H(left_h) + [CZGate(gate.control, gate.target)] + transpile_H(right_h)\n",
    "\n",
    "mappings[CNOTGate] = transpile_CNOT"
   ]
  },
  {
   "cell_type": "markdown",
   "metadata": {},
   "source": [
    "### Transpiler\n",
    "That's all! At least, when it comes to having any transpilation.\n",
    "Let's assume that our circuit definition interface will be simple list of gates appearing in the same order as in circuit."
   ]
  },
  {
   "cell_type": "code",
   "execution_count": 14,
   "metadata": {},
   "outputs": [],
   "source": [
    "from functools import reduce\n",
    "\n",
    "class SimpleTranspiler:\n",
    "    @staticmethod\n",
    "    def transpile_gate(gate):\n",
    "        return mappings[gate.__class__].__call__(gate)\n",
    "    \n",
    "    @staticmethod\n",
    "    def transpile_circuit(circ):\n",
    "        \"\"\"Transpile circuit given as a list of gates\n",
    "        Args:\n",
    "            circ (list[Gate]): circuit to be transpiled\n",
    "        Returns:\n",
    "            list[Gate]:\n",
    "        \"\"\"\n",
    "        transpiled = map(SimpleTranspiler.transpile_gate, circ)\n",
    "        flatten_transpiled = reduce(list.__add__, transpiled)\n",
    "        return flatten_transpiled"
   ]
  },
  {
   "cell_type": "markdown",
   "metadata": {},
   "source": [
    "### Visualization & Running\n",
    "According to the KISS and YAGNI rules (as it saves time and unnecessary code loosely related to the problem) I've decided to reach for a `qiskit` (well known and popular lib) and use it as a tool for building, visualization and running circuits. (and don't use it's other features)."
   ]
  },
  {
   "cell_type": "code",
   "execution_count": 15,
   "metadata": {},
   "outputs": [],
   "source": [
    "from qiskit import QuantumCircuit\n",
    "from qiskit.quantum_info import *\n",
    "from qiskit.visualization import *\n",
    "\n",
    "qiskit_gates_applyers = {\n",
    "    IGate: lambda circ, gate: circ.i(gate.target),\n",
    "    RXGate: lambda circ, gate: circ.rx(gate.theta, gate.target),\n",
    "    RZGate: lambda circ, gate: circ.rz(gate.theta, gate.target),\n",
    "    XGate: lambda circ, gate: circ.x(gate.target),\n",
    "    ZGate: lambda circ, gate: circ.z(gate.target),\n",
    "    CZGate: lambda circ, gate: circ.cz(gate.control, gate.target),\n",
    "    RYGate: lambda circ, gate: circ.ry(gate.theta, gate.target),\n",
    "    YGate: lambda circ, gate: circ.y(gate.target),\n",
    "    HGate: lambda circ, gate: circ.h(gate.target),\n",
    "    CNOTGate: lambda circ, gate: circ.cx(gate.control, gate.target)\n",
    "}        \n",
    "\n",
    "def build_in_qiskit(circ, qubits):\n",
    "    \"\"\"Build qiskit circuit from provided list definition\n",
    "        Args:\n",
    "            circ (list[Gate]): circuit to be builded in qiskit\n",
    "            qubits (int): number of qubits in builded circuit\n",
    "        Returns:\n",
    "            QuantumCircuit: \n",
    "    \"\"\"\n",
    "    qiskit_circ = QuantumCircuit(qubits)\n",
    "    for gate in circ:\n",
    "        qiskit_gates_applyers[gate.__class__].__call__(qiskit_circ, gate)\n",
    "    return qiskit_circ"
   ]
  },
  {
   "cell_type": "markdown",
   "metadata": {},
   "source": [
    "Sample circuit returning one of the Bell states $\\frac{1}{\\sqrt{2}}(|01\\rangle + |10\\rangle)$ (requested to obtain in task 2)"
   ]
  },
  {
   "cell_type": "code",
   "execution_count": 16,
   "metadata": {},
   "outputs": [],
   "source": [
    "circ = [\n",
    "    XGate(0),\n",
    "    XGate(1),\n",
    "    HGate(0),\n",
    "    CNOTGate(0,1)\n",
    "]"
   ]
  },
  {
   "cell_type": "markdown",
   "metadata": {},
   "source": [
    "qiskit circuit:"
   ]
  },
  {
   "cell_type": "code",
   "execution_count": 17,
   "metadata": {},
   "outputs": [
    {
     "data": {
      "image/png": "[encoded data removed]",
      "text/plain": [
       "<Figure size 321.232x144.48 with 1 Axes>"
      ]
     },
     "execution_count": 17,
     "metadata": {},
     "output_type": "execute_result"
    }
   ],
   "source": [
    "qiskit_circ = build_in_qiskit(circ, 2)\n",
    "qiskit_circ.draw(output='mpl')"
   ]
  },
  {
   "cell_type": "code",
   "execution_count": 18,
   "metadata": {},
   "outputs": [
    {
     "data": {
      "image/png": "[encoded data removed]",
      "text/plain": [
       "<Figure size 622.232x144.48 with 1 Axes>"
      ]
     },
     "execution_count": 18,
     "metadata": {},
     "output_type": "execute_result"
    }
   ],
   "source": [
    "transpiled = SimpleTranspiler.transpile_circuit(circ)\n",
    "qiskit_transpiled = build_in_qiskit(transpiled, 2)\n",
    "qiskit_transpiled.draw(output='mpl')"
   ]
  },
  {
   "cell_type": "markdown",
   "metadata": {},
   "source": [
    "Now we can compare statevectors and probabilities of constructed circuits (initial vs. transpiled)"
   ]
  },
  {
   "cell_type": "code",
   "execution_count": 19,
   "metadata": {},
   "outputs": [
    {
     "name": "stdout",
     "output_type": "stream",
     "text": [
      "Statevctor:\n",
      "{'01': 0.5, '10': 0.5}\n",
      "Probabilities:\n",
      "{'01': 0.5, '10': 0.5}\n"
     ]
    }
   ],
   "source": [
    "# Non-transpiled circuit\n",
    "print(\"Statevctor:\")\n",
    "print(Statevector.from_instruction(qiskit_circ).probabilities_dict(decimals=6))\n",
    "print(\"Probabilities:\")\n",
    "print(Statevector.from_instruction(qiskit_circ).probabilities_dict(decimals=6))"
   ]
  },
  {
   "cell_type": "code",
   "execution_count": 20,
   "metadata": {},
   "outputs": [
    {
     "name": "stdout",
     "output_type": "stream",
     "text": [
      "Statevctor:\n",
      "{'01': (1.1102230246251565e-16+0.7071067811865477j), '10': (-1.6653345369377348e-16-0.7071067811865477j)}\n",
      "Probabilities:\n",
      "{'01': 0.5, '10': 0.5}\n"
     ]
    }
   ],
   "source": [
    "# Transpiled circuit\n",
    "print(\"Statevctor:\")\n",
    "print(Statevector.from_instruction(qiskit_transpiled).to_dict(decimals=6))\n",
    "print(\"Probabilities:\")\n",
    "print(Statevector.from_instruction(qiskit_transpiled).probabilities_dict(decimals=6))"
   ]
  },
  {
   "cell_type": "markdown",
   "metadata": {},
   "source": [
    "### First conclusions\n",
    "Although circuits differ by statevectors, yielded probabilities are correct. Statevectors differ by global phase of $-i$. \n",
    "\n",
    "Moreover, statevector of transpiled circuit seem to include small error in real part, which is caused by numerical precision. This is expected, as by introducing greater number of gates we increase number of operations performed on floating point variables.\n",
    "\n",
    "Number of the gates number changes arised from the transpilation process varies from $-1$ (in case of `I`) up to 7 (in case of `CNOT`). As it is dependent on the input circuit structure, we can define upper bound of new circuit size basing on pesimistic case scenario (exclusively `CNOT`s).\n",
    "\n",
    "Upper bound of transpiled circuit gates number is $7n$ (if $n$ is the initial number of gates)\n",
    "\n",
    "### Reduction idea\n",
    "Very natural idea is to cumulate long chains of single-qubit gates into one unitary matrix and then decompose it into 3 rotations (just like we did it in case of `RY`). Then pesimistic case of `CNOT`s of $7n$ may decrease to $n + 6 + (n-1)*3 = 4n + 3$.\n",
    "\n",
    "Once again we could solve matrix equation:\n",
    "\n",
    "$\n",
    "\\begin{bmatrix} \n",
    "e^{-i\\frac{\\alpha+\\gamma}{2}} cos(\\frac{\\beta}{2}) &\n",
    "-i e^{-i\\frac{\\alpha-\\gamma}{2}} sin(\\frac{\\beta}{2}) \\\\\n",
    "-ie^{i\\frac{\\alpha-\\gamma}{2}} sin(\\frac{\\beta}{2}) &\n",
    "e^{i\\frac{\\alpha+\\gamma}{2}} cos(\\frac{\\beta}{2}) \\end{bmatrix}\n",
    "=\n",
    "\\begin{bmatrix} u_{11} & u_{12} \\\\ u_{21} & u_{22} \\end{bmatrix}\n",
    "$\n",
    "\n",
    "For the sake of brevity I will use `OneQubitEulerDecomposer` class (https://qiskit.org/documentation/stubs/qiskit.quantum_info.OneQubitEulerDecomposer.html) from `qiskit` which finds angles based on similar equations."
   ]
  },
  {
   "cell_type": "code",
   "execution_count": 21,
   "metadata": {},
   "outputs": [],
   "source": [
    "QISKIT_DECOMPOSER = OneQubitEulerDecomposer(basis='ZXZ')\n",
    "_transpiled_cnot =  SimpleTranspiler.transpile_gate(CNOTGate(0, 1))\n",
    "\n",
    "class SimpleTranspilerV2:\n",
    "    @staticmethod\n",
    "    def transpile_unitary(gate, line):\n",
    "        theta, phi, lam = QISKIT_DECOMPOSER.angles(gate)\n",
    "        return [RZGate(theta, line), RXGate(phi, line), RZGate(lam, line)]\n",
    "    \n",
    "    @staticmethod\n",
    "    def transpile_circuit(circ):\n",
    "        \"\"\"Transpile circuit given as a list of gates\n",
    "        Args:\n",
    "            circ (list[Gate]): circuit to be transpiled\n",
    "        Returns:\n",
    "            list[Gate]:\n",
    "        \"\"\"\n",
    "        lines = {}\n",
    "        transpiled = []\n",
    "        \n",
    "        for gate in circ:\n",
    "            if gate.__class__ in (CNOTGate, CZGate):\n",
    "                # If it is 2-qubit gate first apply transpiled gates on target line\n",
    "                # Then \"flush\" both target and control\n",
    "                # And again apply transpiled gates on target line\n",
    "                if gate.__class__ == CNOTGate:\n",
    "                    for tg in _transpiled_cnot[:3]:\n",
    "                        SimpleTranspilerV2._add_to_line(lines, gate.target, tg)\n",
    "                \n",
    "                if gate.control in lines.keys():\n",
    "                    transpiled += SimpleTranspilerV2.transpile_unitary(lines[gate.control], gate.control)\n",
    "                    del lines[gate.control]\n",
    "                    \n",
    "                if gate.target in lines.keys():\n",
    "                    transpiled += SimpleTranspilerV2.transpile_unitary(lines[gate.target], gate.target)\n",
    "                    del lines[gate.target]\n",
    "                \n",
    "                transpiled.append(CZGate(gate.control, gate.target))\n",
    "                    \n",
    "                if gate.__class__ == CNOTGate:\n",
    "                    for tg in _transpiled_cnot[4:]:\n",
    "                        SimpleTranspilerV2._add_to_line(lines, gate.target, tg)\n",
    "            else:\n",
    "                # If it is 1-qubit gate apply gate on target line\n",
    "                SimpleTranspilerV2._add_to_line(lines, gate.target, gate)\n",
    "        \n",
    "        # Flush all lines with not decomposed rotations\n",
    "        for line in lines.keys():\n",
    "            transpiled += SimpleTranspilerV2.transpile_unitary(lines[line], line)\n",
    "            \n",
    "            \n",
    "        return transpiled\n",
    "    \n",
    "    @staticmethod\n",
    "    def _add_to_line(lines, line, gate):\n",
    "        if line in lines.keys():\n",
    "            lines[line] = lines[line] @ gate.to_matrix()\n",
    "        else:\n",
    "            lines[line] = gate.to_matrix()\n",
    "            "
   ]
  },
  {
   "cell_type": "markdown",
   "metadata": {},
   "source": [
    "Simple circuit from \"pesimistic\" class"
   ]
  },
  {
   "cell_type": "code",
   "execution_count": 22,
   "metadata": {},
   "outputs": [
    {
     "data": {
      "image/png": "[encoded data removed]",
      "text/plain": [
       "<Figure size 1404.83x144.48 with 1 Axes>"
      ]
     },
     "execution_count": 22,
     "metadata": {},
     "output_type": "execute_result"
    }
   ],
   "source": [
    "pesimistic_circ = [\n",
    "    CNOTGate(0, 1),\n",
    "    CNOTGate(0, 1),\n",
    "    CNOTGate(0, 1),\n",
    "]\n",
    "\n",
    "transpiled = SimpleTranspiler.transpile_circuit(pesimistic_circ)\n",
    "qiskit_transpiled = build_in_qiskit(transpiled, 2)\n",
    "qiskit_transpiled.draw(output='mpl')"
   ]
  },
  {
   "cell_type": "code",
   "execution_count": 23,
   "metadata": {},
   "outputs": [
    {
     "data": {
      "image/png": "[encoded data removed]",
      "text/plain": [
       "<Figure size 1043.63x144.48 with 1 Axes>"
      ]
     },
     "execution_count": 23,
     "metadata": {},
     "output_type": "execute_result"
    }
   ],
   "source": [
    "transpiled_v2 = SimpleTranspilerV2.transpile_circuit(pesimistic_circ)\n",
    "qiskit_transpiled_v2 = build_in_qiskit(transpiled_v2, 2)\n",
    "qiskit_transpiled_v2.draw(output='mpl')"
   ]
  },
  {
   "cell_type": "code",
   "execution_count": 24,
   "metadata": {},
   "outputs": [
    {
     "name": "stdout",
     "output_type": "stream",
     "text": [
      "{'00': 1.0}\n",
      "{'00': 0.999627, '10': 0.000373}\n"
     ]
    }
   ],
   "source": [
    "print(Statevector.from_instruction(qiskit_transpiled).probabilities_dict(decimals=6))\n",
    "print(Statevector.from_instruction(qiskit_transpiled_v2).probabilities_dict(decimals=6))"
   ]
  },
  {
   "cell_type": "markdown",
   "metadata": {},
   "source": [
    "Unfortunatelly once again, because of floating point arithmetic, we can observe loss in circuit result correctness alined with gates \"compression\"."
   ]
  },
  {
   "cell_type": "markdown",
   "metadata": {},
   "source": [
    "### Experimental evaluation\n",
    "Numbers of $7n$ and $4n$ provided ealier are pesimistic case based upper bounds. One thing we can check is average gates number overhead calculated from some set of randomly generated circuits. (Checking on some real circuits would be even more reliable)\n",
    "\n",
    "At the begining I haven't expected that during decomposition because of numerical errors we may introduce errors in the probabilities of receiving given states. In addition to ratio of transpiled and original circuits' sizes I will check errors in probabilities vecotrs."
   ]
  },
  {
   "cell_type": "code",
   "execution_count": 25,
   "metadata": {},
   "outputs": [],
   "source": [
    "import random\n",
    "import statistics \n",
    "\n",
    "ALL_GATES = [IGate, RXGate, RZGate, XGate, ZGate, CZGate, RYGate, YGate, HGate, CNOTGate]\n",
    "    \n",
    "\n",
    "class Experiment:\n",
    "    def __init__(self, circuit_sizes=[100], shots=100, qubits_number=10):\n",
    "        \"\"\"\n",
    "        Args:\n",
    "            circuit_sizes (list[int]): sizes (in number of gates) of circuit to be examined\n",
    "            shots (int): number of samples to be generated\n",
    "            qubits_number (int): number of qubits in examined circuits\n",
    "        \"\"\"\n",
    "        self.circuit_sizes = circuit_sizes\n",
    "        self.shots = shots\n",
    "        self.qubits_number = qubits_number\n",
    "        \n",
    "    def run(self):\n",
    "        results = []\n",
    "        \n",
    "        # Repeat experiment for all requested cirucit sizes\n",
    "        for size in self.circuit_sizes:\n",
    "            v1_results = []\n",
    "            v2_results = []\n",
    "\n",
    "            # Generate random circuit and calculate transpiled/original ratio multiple times\n",
    "            # Both for V1 and V2\n",
    "            for _i in range(self.shots):\n",
    "                circ = self.random_circ(size)\n",
    "                v1_results.append(self.eval_transpiler(SimpleTranspiler, circ))\n",
    "                v2_results.append(self.eval_transpiler(SimpleTranspilerV2, circ))\n",
    "            \n",
    "            # Compute simple statistics to be displayed on a plot\n",
    "            v1_m, v1_s = statistics.mean(v1_results), statistics.stdev(v1_results)\n",
    "            v2_m, v2_s = statistics.mean(v2_results), statistics.stdev(v2_results)\n",
    "            \n",
    "            results.append((v1_m, v1_s, v2_m, v2_s))\n",
    "            \n",
    "        return results\n",
    "            \n",
    "    def eval_transpiler(self, transpiler, circ):\n",
    "        transpiled = transpiler.transpile_circuit(circ)\n",
    "        return len(transpiled)/len(circ)\n",
    "    \n",
    "    def random_circ(self, gates_n):\n",
    "        \"\"\"Generate random circuit consisting of gates_n gates\"\"\"\n",
    "        qubits = range(self.qubits_number)\n",
    "        gates = []\n",
    "        for _i in range(gates_n):\n",
    "            [gate_class] = random.sample(ALL_GATES, 1)\n",
    "            if gate_class in (CZGate, CNOTGate):\n",
    "                [target, control] = random.sample(qubits, 2)\n",
    "                gates.append(gate_class(control, target))\n",
    "            elif gate_class in (RXGate, RZGate, RYGate):\n",
    "                [target] = random.sample(qubits, 1)\n",
    "                theta = random.random() * 2 * np.pi\n",
    "                gates.append(gate_class(theta, target))\n",
    "            else:\n",
    "                [target] = random.sample(qubits, 1)\n",
    "                gates.append(gate_class(target))\n",
    "\n",
    "        return gates"
   ]
  },
  {
   "cell_type": "markdown",
   "metadata": {},
   "source": [
    "Sample random circuit"
   ]
  },
  {
   "cell_type": "code",
   "execution_count": 26,
   "metadata": {},
   "outputs": [
    {
     "data": {
      "image/png": "[encoded data removed]",
      "text/plain": [
       "<Figure size 441.777x325.08 with 1 Axes>"
      ]
     },
     "execution_count": 26,
     "metadata": {},
     "output_type": "execute_result"
    }
   ],
   "source": [
    "c = Experiment(qubits_number=5).random_circ(10)\n",
    "q = build_in_qiskit(c, 5)\n",
    "q.draw(output='mpl')"
   ]
  },
  {
   "cell_type": "code",
   "execution_count": null,
   "metadata": {},
   "outputs": [],
   "source": [
    "circuit_sizes = [100 * (i+1) for i in range(10)]\n",
    "results = Experiment(circuit_sizes).run()"
   ]
  },
  {
   "cell_type": "code",
   "execution_count": null,
   "metadata": {},
   "outputs": [],
   "source": [
    "results"
   ]
  },
  {
   "cell_type": "code",
   "execution_count": null,
   "metadata": {},
   "outputs": [],
   "source": [
    "import matplotlib.pyplot as plt\n",
    "\n",
    "def plot(results):\n",
    "    X = circuit_sizes\n",
    "    Y1 = []\n",
    "    E1 = []\n",
    "    Y2 = []\n",
    "    E2 = []\n",
    "\n",
    "    for (y1, e1, y2, e2) in results:\n",
    "        Y1.append(y1)\n",
    "        E1.append(e1)\n",
    "        Y2.append(y2)\n",
    "        E2.append(e2)\n",
    "\n",
    "    plt.ylim(0, 3)\n",
    "    plt.errorbar(X, Y1, E1, linestyle='None', marker='.')\n",
    "    plt.errorbar(X, Y2, E2, linestyle='None', marker='.')"
   ]
  },
  {
   "cell_type": "code",
   "execution_count": null,
   "metadata": {},
   "outputs": [],
   "source": [
    "plot(results)"
   ]
  },
  {
   "cell_type": "markdown",
   "metadata": {},
   "source": [
    "Evaluation on random circuits show that ratios tend to be much lower than their upper bounds."
   ]
  },
  {
   "cell_type": "markdown",
   "metadata": {},
   "source": [
    "### Further ideas\n",
    "\n",
    "Because `CNOT` and `CZ` may introduce entanglement we can't treat rotation of each qubit separately. Using tensor product we can construct multi-qubits gates (just like we did while derivating `CNOT`). During further research i would represent cirucit as a large gate and try to decompose it with _Cosine-Sine-Decomposition_ method (which is recursion leading to many equations similar to the one from `RY` derivation), as in the following paper https://arxiv.org/abs/1208.0194.\n",
    "\n",
    "The main caveats of proposed approach are errors introduced by floating point arithmetic and detachment from the real gates implementations. Instead of compiling chains of gates into 3 rotations, it could be benefitial to replace them with (for example) universal gates `U3` (implemented this way: $U3(\\theta, \\phi, \\lambda) = RZ(\\phi) RX(-\\pi/2) RZ(\\theta) RX(\\pi/2)RZ(\\lambda)$) which rotate by arbitrary angles only around Z axis."
   ]
  }
 ],
 "metadata": {
  "kernelspec": {
   "display_name": "Python 3.6 (quantum)",
   "language": "python",
   "name": "quantum"
  },
  "language_info": {
   "codemirror_mode": {
    "name": "ipython",
    "version": 3
   },
   "file_extension": ".py",
   "mimetype": "text/x-python",
   "name": "python",
   "nbconvert_exporter": "python",
   "pygments_lexer": "ipython3",
   "version": "3.6.7"
  }
 },
 "nbformat": 4,
 "nbformat_minor": 4
}
